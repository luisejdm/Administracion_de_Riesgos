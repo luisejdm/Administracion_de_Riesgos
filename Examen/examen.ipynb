{
 "cells": [
  {
   "cell_type": "code",
   "execution_count": 1,
   "metadata": {},
   "outputs": [],
   "source": [
    "import pandas as pd\n",
    "import numpy as np\n",
    "from scipy.stats import norm\n",
    "import vartools as vt"
   ]
  },
  {
   "cell_type": "code",
   "execution_count": 22,
   "metadata": {},
   "outputs": [
    {
     "data": {
      "text/html": [
       "<div>\n",
       "<style scoped>\n",
       "    .dataframe tbody tr th:only-of-type {\n",
       "        vertical-align: middle;\n",
       "    }\n",
       "\n",
       "    .dataframe tbody tr th {\n",
       "        vertical-align: top;\n",
       "    }\n",
       "\n",
       "    .dataframe thead th {\n",
       "        text-align: right;\n",
       "    }\n",
       "</style>\n",
       "<table border=\"1\" class=\"dataframe\">\n",
       "  <thead>\n",
       "    <tr style=\"text-align: right;\">\n",
       "      <th></th>\n",
       "      <th>ABT</th>\n",
       "      <th>KXI</th>\n",
       "      <th>QQQ</th>\n",
       "      <th>X</th>\n",
       "      <th>XOM</th>\n",
       "    </tr>\n",
       "    <tr>\n",
       "      <th>Date</th>\n",
       "      <th></th>\n",
       "      <th></th>\n",
       "      <th></th>\n",
       "      <th></th>\n",
       "      <th></th>\n",
       "    </tr>\n",
       "  </thead>\n",
       "  <tbody>\n",
       "    <tr>\n",
       "      <th>2020-01-02</th>\n",
       "      <td>79.6899</td>\n",
       "      <td>49.6289</td>\n",
       "      <td>209.9761</td>\n",
       "      <td>10.5066</td>\n",
       "      <td>55.6312</td>\n",
       "    </tr>\n",
       "    <tr>\n",
       "      <th>2020-01-03</th>\n",
       "      <td>78.7185</td>\n",
       "      <td>49.5841</td>\n",
       "      <td>208.0528</td>\n",
       "      <td>10.4289</td>\n",
       "      <td>55.1839</td>\n",
       "    </tr>\n",
       "    <tr>\n",
       "      <th>2020-01-06</th>\n",
       "      <td>79.1309</td>\n",
       "      <td>49.7366</td>\n",
       "      <td>209.3932</td>\n",
       "      <td>10.4775</td>\n",
       "      <td>55.6076</td>\n",
       "    </tr>\n",
       "    <tr>\n",
       "      <th>2020-01-07</th>\n",
       "      <td>78.6910</td>\n",
       "      <td>49.4136</td>\n",
       "      <td>209.3641</td>\n",
       "      <td>10.8076</td>\n",
       "      <td>55.1525</td>\n",
       "    </tr>\n",
       "    <tr>\n",
       "      <th>2020-01-08</th>\n",
       "      <td>79.0117</td>\n",
       "      <td>49.4046</td>\n",
       "      <td>210.9378</td>\n",
       "      <td>10.7785</td>\n",
       "      <td>54.3208</td>\n",
       "    </tr>\n",
       "  </tbody>\n",
       "</table>\n",
       "</div>"
      ],
      "text/plain": [
       "               ABT     KXI      QQQ       X     XOM\n",
       "Date                                               \n",
       "2020-01-02 79.6899 49.6289 209.9761 10.5066 55.6312\n",
       "2020-01-03 78.7185 49.5841 208.0528 10.4289 55.1839\n",
       "2020-01-06 79.1309 49.7366 209.3932 10.4775 55.6076\n",
       "2020-01-07 78.6910 49.4136 209.3641 10.8076 55.1525\n",
       "2020-01-08 79.0117 49.4046 210.9378 10.7785 54.3208"
      ]
     },
     "execution_count": 22,
     "metadata": {},
     "output_type": "execute_result"
    }
   ],
   "source": [
    "equities = pd.read_excel('Datos_Examen_Market_Risk.xlsx')\n",
    "equities['Date'] = pd.to_datetime(equities['Date'])\n",
    "equities = equities.set_index('Date')\n",
    "equities.head()"
   ]
  },
  {
   "cell_type": "code",
   "execution_count": 23,
   "metadata": {},
   "outputs": [],
   "source": [
    "def var_stocks(data, positions, nc, long):\n",
    "    rend = data.pct_change().dropna()\n",
    "    port_value = (data.iloc[-1] * positions).sum()\n",
    "    w = (data*positions).iloc[-1] / port_value\n",
    "    port_rend = np.dot(w, rend.T)\n",
    "    \n",
    "    if long == True:\n",
    "        var_p = np.percentile(port_rend, 100-nc)\n",
    "        var_m = (data * positions).sum(axis=1).iloc[-1] * (var_p)\n",
    "        es_p = port_rend[port_rend < var_p].mean()\n",
    "        es_m = (data * positions).sum(axis=1).iloc[-1] * (es_p)\n",
    "    else:\n",
    "        var_p = np.percentile(port_rend, nc)\n",
    "        var_m = (data * positions).sum(axis=1).iloc[-1] * (var_p)\n",
    "        es_p = port_rend[port_rend > var_p].mean()\n",
    "        es_m = (data * positions).sum(axis=1).iloc[-1] * (es_p)\n",
    "        \n",
    "    resultados = pd.DataFrame({\n",
    "        '':['%', '$'],\n",
    "        'VaR':[var_p, var_m],\n",
    "        'C-VaR':[es_p, es_m]\n",
    "        })\n",
    "    return resultados"
   ]
  },
  {
   "cell_type": "code",
   "execution_count": 34,
   "metadata": {},
   "outputs": [
    {
     "data": {
      "text/html": [
       "<div>\n",
       "<style scoped>\n",
       "    .dataframe tbody tr th:only-of-type {\n",
       "        vertical-align: middle;\n",
       "    }\n",
       "\n",
       "    .dataframe tbody tr th {\n",
       "        vertical-align: top;\n",
       "    }\n",
       "\n",
       "    .dataframe thead th {\n",
       "        text-align: right;\n",
       "    }\n",
       "</style>\n",
       "<table border=\"1\" class=\"dataframe\">\n",
       "  <thead>\n",
       "    <tr style=\"text-align: right;\">\n",
       "      <th></th>\n",
       "      <th></th>\n",
       "      <th>VaR</th>\n",
       "      <th>C-VaR</th>\n",
       "    </tr>\n",
       "  </thead>\n",
       "  <tbody>\n",
       "    <tr>\n",
       "      <th>0</th>\n",
       "      <td>%</td>\n",
       "      <td>-0.0371</td>\n",
       "      <td>-0.0553</td>\n",
       "    </tr>\n",
       "    <tr>\n",
       "      <th>1</th>\n",
       "      <td>$</td>\n",
       "      <td>-141,504.6683</td>\n",
       "      <td>-210,988.8385</td>\n",
       "    </tr>\n",
       "  </tbody>\n",
       "</table>\n",
       "</div>"
      ],
      "text/plain": [
       "               VaR         C-VaR\n",
       "0  %       -0.0371       -0.0553\n",
       "1  $ -141,504.6683 -210,988.8385"
      ]
     },
     "execution_count": 34,
     "metadata": {},
     "output_type": "execute_result"
    }
   ],
   "source": [
    "positions = [5432, 8972, 3243, 7456, 5931]\n",
    "long = True\n",
    "nc = 99\n",
    "resultados = var_stocks(equities, positions, nc, long)\n",
    "resultados"
   ]
  },
  {
   "cell_type": "code",
   "execution_count": 6,
   "metadata": {},
   "outputs": [],
   "source": [
    "w_objetivo = [0.1625, 0.4406, 0.2104, 0.0075, 0.179]"
   ]
  },
  {
   "cell_type": "code",
   "execution_count": 25,
   "metadata": {},
   "outputs": [
    {
     "data": {
      "text/html": [
       "<div>\n",
       "<style scoped>\n",
       "    .dataframe tbody tr th:only-of-type {\n",
       "        vertical-align: middle;\n",
       "    }\n",
       "\n",
       "    .dataframe tbody tr th {\n",
       "        vertical-align: top;\n",
       "    }\n",
       "\n",
       "    .dataframe thead th {\n",
       "        text-align: right;\n",
       "    }\n",
       "</style>\n",
       "<table border=\"1\" class=\"dataframe\">\n",
       "  <thead>\n",
       "    <tr style=\"text-align: right;\">\n",
       "      <th></th>\n",
       "      <th>Pesos Originales</th>\n",
       "      <th>Pesos Objetivo</th>\n",
       "      <th>Comprar o Vender</th>\n",
       "    </tr>\n",
       "  </thead>\n",
       "  <tbody>\n",
       "    <tr>\n",
       "      <th>ABT</th>\n",
       "      <td>0.1643</td>\n",
       "      <td>0.1625</td>\n",
       "      <td>-60.0000</td>\n",
       "    </tr>\n",
       "    <tr>\n",
       "      <th>KXI</th>\n",
       "      <td>0.1497</td>\n",
       "      <td>0.4406</td>\n",
       "      <td>17,435.0000</td>\n",
       "    </tr>\n",
       "    <tr>\n",
       "      <th>QQQ</th>\n",
       "      <td>0.4421</td>\n",
       "      <td>0.2104</td>\n",
       "      <td>-1,700.0000</td>\n",
       "    </tr>\n",
       "    <tr>\n",
       "      <th>X</th>\n",
       "      <td>0.0688</td>\n",
       "      <td>0.0075</td>\n",
       "      <td>-6,644.0000</td>\n",
       "    </tr>\n",
       "    <tr>\n",
       "      <th>XOM</th>\n",
       "      <td>0.1750</td>\n",
       "      <td>0.1790</td>\n",
       "      <td>135.0000</td>\n",
       "    </tr>\n",
       "  </tbody>\n",
       "</table>\n",
       "</div>"
      ],
      "text/plain": [
       "     Pesos Originales  Pesos Objetivo  Comprar o Vender\n",
       "ABT            0.1643          0.1625          -60.0000\n",
       "KXI            0.1497          0.4406       17,435.0000\n",
       "QQQ            0.4421          0.2104       -1,700.0000\n",
       "X              0.0688          0.0075       -6,644.0000\n",
       "XOM            0.1750          0.1790          135.0000"
      ]
     },
     "execution_count": 25,
     "metadata": {},
     "output_type": "execute_result"
    }
   ],
   "source": [
    "def resumen_rebalanceo(data, w_objetivo, positions):\n",
    "    w = (data.iloc[-1] * positions) / (data.iloc[-1] * positions).sum()\n",
    "    port_value = (data.iloc[-1] * positions).sum() \n",
    "    resumen = pd.DataFrame({\n",
    "    'Pesos Originales': w,\n",
    "    'Pesos Objetivo': w_objetivo,\n",
    "    'Comprar o Vender': np.floor((w_objetivo-w) * port_value / data.iloc[-1])\n",
    "    })\n",
    "    return resumen\n",
    "\n",
    "resumen = resumen_rebalanceo(equities, w_objetivo, positions)\n",
    "resumen"
   ]
  },
  {
   "cell_type": "code",
   "execution_count": null,
   "metadata": {},
   "outputs": [],
   "source": []
  },
  {
   "cell_type": "code",
   "execution_count": null,
   "metadata": {},
   "outputs": [],
   "source": []
  },
  {
   "cell_type": "code",
   "execution_count": null,
   "metadata": {},
   "outputs": [],
   "source": []
  },
  {
   "cell_type": "code",
   "execution_count": 8,
   "metadata": {},
   "outputs": [
    {
     "data": {
      "text/html": [
       "<div>\n",
       "<style scoped>\n",
       "    .dataframe tbody tr th:only-of-type {\n",
       "        vertical-align: middle;\n",
       "    }\n",
       "\n",
       "    .dataframe tbody tr th {\n",
       "        vertical-align: top;\n",
       "    }\n",
       "\n",
       "    .dataframe thead th {\n",
       "        text-align: right;\n",
       "    }\n",
       "</style>\n",
       "<table border=\"1\" class=\"dataframe\">\n",
       "  <thead>\n",
       "    <tr style=\"text-align: right;\">\n",
       "      <th></th>\n",
       "      <th>JPYUSD</th>\n",
       "      <th>MXNUSD</th>\n",
       "    </tr>\n",
       "    <tr>\n",
       "      <th>Date</th>\n",
       "      <th></th>\n",
       "      <th></th>\n",
       "    </tr>\n",
       "  </thead>\n",
       "  <tbody>\n",
       "    <tr>\n",
       "      <th>2020-01-01</th>\n",
       "      <td>0.0092</td>\n",
       "      <td>0.0529</td>\n",
       "    </tr>\n",
       "    <tr>\n",
       "      <th>2020-01-02</th>\n",
       "      <td>0.0092</td>\n",
       "      <td>0.0529</td>\n",
       "    </tr>\n",
       "    <tr>\n",
       "      <th>2020-01-03</th>\n",
       "      <td>0.0092</td>\n",
       "      <td>0.0531</td>\n",
       "    </tr>\n",
       "    <tr>\n",
       "      <th>2020-01-06</th>\n",
       "      <td>0.0093</td>\n",
       "      <td>0.0528</td>\n",
       "    </tr>\n",
       "    <tr>\n",
       "      <th>2020-01-07</th>\n",
       "      <td>0.0092</td>\n",
       "      <td>0.0531</td>\n",
       "    </tr>\n",
       "  </tbody>\n",
       "</table>\n",
       "</div>"
      ],
      "text/plain": [
       "            JPYUSD  MXNUSD\n",
       "Date                      \n",
       "2020-01-01  0.0092  0.0529\n",
       "2020-01-02  0.0092  0.0529\n",
       "2020-01-03  0.0092  0.0531\n",
       "2020-01-06  0.0093  0.0528\n",
       "2020-01-07  0.0092  0.0531"
      ]
     },
     "execution_count": 8,
     "metadata": {},
     "output_type": "execute_result"
    }
   ],
   "source": [
    "divisas = pd.read_excel('Datos_Examen_Market_Risk.xlsx', sheet_name='Data_FX')\n",
    "divisas = divisas[['Date','JPYUSD', 'MXNUSD']]\n",
    "divisas['Date'] = pd.to_datetime(divisas['Date'])\n",
    "divisas = divisas.set_index('Date')\n",
    "divisas.head()"
   ]
  },
  {
   "cell_type": "code",
   "execution_count": 9,
   "metadata": {},
   "outputs": [],
   "source": [
    "def var_es(data, positions, nc, long):\n",
    "    rend_inversion = ((data * positions).sum(axis=1)).pct_change().dropna()\n",
    "    if long == True:\n",
    "        percentil =  (1-nc)*100\n",
    "        var_p = np.percentile(rend_inversion, percentil)\n",
    "        var_m = (data * positions).sum(axis=1).iloc[-1] * (var_p)\n",
    "        es_p = rend_inversion[rend_inversion < var_p].mean()\n",
    "        es_m = (data * positions).sum(axis=1).iloc[-1] * (es_p)\n",
    "    else:\n",
    "        percentil = nc*100\n",
    "        var_p = np.percentile(rend_inversion, percentil)\n",
    "        var_m = (data * positions).sum(axis=1).iloc[-1] * (var_p)\n",
    "        es_p = rend_inversion[rend_inversion > var_p].mean()\n",
    "        es_m = (data * positions).sum(axis=1).iloc[-1] * (es_p)\n",
    "    resultados = pd.DataFrame({'VAR %':var_p, 'VAR $':var_m, 'ES %':es_p, 'ES $':es_m}, index=['Resultados'])\n",
    "    return resultados"
   ]
  },
  {
   "cell_type": "code",
   "execution_count": 19,
   "metadata": {},
   "outputs": [
    {
     "data": {
      "text/html": [
       "<div>\n",
       "<style scoped>\n",
       "    .dataframe tbody tr th:only-of-type {\n",
       "        vertical-align: middle;\n",
       "    }\n",
       "\n",
       "    .dataframe tbody tr th {\n",
       "        vertical-align: top;\n",
       "    }\n",
       "\n",
       "    .dataframe thead th {\n",
       "        text-align: right;\n",
       "    }\n",
       "</style>\n",
       "<table border=\"1\" class=\"dataframe\">\n",
       "  <thead>\n",
       "    <tr style=\"text-align: right;\">\n",
       "      <th></th>\n",
       "      <th>VAR %</th>\n",
       "      <th>VAR $</th>\n",
       "      <th>ES %</th>\n",
       "      <th>ES $</th>\n",
       "    </tr>\n",
       "  </thead>\n",
       "  <tbody>\n",
       "    <tr>\n",
       "      <th>Resultados</th>\n",
       "      <td>0.0158</td>\n",
       "      <td>46,019.0110</td>\n",
       "      <td>0.0192</td>\n",
       "      <td>55,955.3110</td>\n",
       "    </tr>\n",
       "  </tbody>\n",
       "</table>\n",
       "</div>"
      ],
      "text/plain": [
       "            VAR %       VAR $   ES %        ES $\n",
       "Resultados 0.0158 46,019.0110 0.0192 55,955.3110"
      ]
     },
     "execution_count": 19,
     "metadata": {},
     "output_type": "execute_result"
    }
   ],
   "source": [
    "positions = [73000000, 49000000]\n",
    "long = False\n",
    "nc = 0.99\n",
    "\n",
    "var_es(divisas, positions, nc, long)"
   ]
  },
  {
   "cell_type": "code",
   "execution_count": 16,
   "metadata": {},
   "outputs": [
    {
     "data": {
      "text/plain": [
       "46019"
      ]
     },
     "execution_count": 16,
     "metadata": {},
     "output_type": "execute_result"
    }
   ],
   "source": [
    "46019"
   ]
  },
  {
   "cell_type": "code",
   "execution_count": null,
   "metadata": {},
   "outputs": [],
   "source": []
  },
  {
   "cell_type": "code",
   "execution_count": 20,
   "metadata": {},
   "outputs": [],
   "source": [
    "call_blsdelta = lambda s, k, r, sigma, T: norm.cdf( ( np.log(s/k) + (r + sigma**2 / 2) * T ) / ( sigma * np.sqrt(T)) )\n",
    "put_blsdelta = lambda s, k, r, sigma, T: np.abs(norm.cdf( ( np.log(s/k) + (r + sigma**2 / 2) * T ) / ( sigma * np.sqrt(T)) ) - 1)\n",
    "\n",
    "def delta_hedge(calls, puts, noc_c, noc_p):\n",
    "    return np.array([call_blsdelta(*i) for i in calls]).dot(noc_c) - np.array([put_blsdelta(*i) for i in puts]).dot(noc_p)"
   ]
  },
  {
   "cell_type": "code",
   "execution_count": 21,
   "metadata": {},
   "outputs": [
    {
     "name": "stdout",
     "output_type": "stream",
     "text": [
      "Hay que comprar $19.3827 MDD del subyacente\n"
     ]
    }
   ],
   "source": [
    "#                  Spot, Strike, r,     sigma, T\n",
    "calls = np.array([ [2694, 2650, 0.043916, 0.31, 3/12],    #C1\n",
    "                   [2694, 2670, 0.043916, 0.28, 3/12],    #C2\n",
    "                   [2694, 2650, 0.042142, 0.43, 12/12],   #C3\n",
    "                   [2694, 2670, 0.042142, 0.37, 12/12]])  #C4\n",
    "\n",
    " #                  Spot, Strike, r,     sigma, T\n",
    "puts =  np.array([ [2694, 2730, 0.043916, 0.35, 3/12],    #C1\n",
    "                   [2694, 2740, 0.043916, 0.36, 3/12],    #C2\n",
    "                   [2694, 2730, 0.042142, 0.51, 12/12],   #C3\n",
    "                   [2694, 2740, 0.042142, 0.58, 12/12]])  #C4\n",
    "\n",
    "#                 C1, C2, C3, C4\n",
    "noc_c = np.array([21, 25, 28, 33])\n",
    "\n",
    "#                 P1, P2, P3, P4\n",
    "noc_p = np.array([45, 10, 12, 43])\n",
    "\n",
    "net_1 = delta_hedge(calls, puts, noc_c, noc_p)\n",
    "\n",
    "if net_1 < 0:\n",
    "    print(f'Hay que vender ${net_1:.4f} MDD del subyacente')\n",
    "else:\n",
    "    print(f'Hay que comprar ${net_1:.4f} MDD del subyacente')"
   ]
  }
 ],
 "metadata": {
  "kernelspec": {
   "display_name": "Python 3",
   "language": "python",
   "name": "python3"
  },
  "language_info": {
   "codemirror_mode": {
    "name": "ipython",
    "version": 3
   },
   "file_extension": ".py",
   "mimetype": "text/x-python",
   "name": "python",
   "nbconvert_exporter": "python",
   "pygments_lexer": "ipython3",
   "version": "3.11.3"
  }
 },
 "nbformat": 4,
 "nbformat_minor": 2
}
