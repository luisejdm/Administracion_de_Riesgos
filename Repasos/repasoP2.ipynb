{
 "cells": [
  {
   "cell_type": "code",
   "execution_count": 1,
   "metadata": {},
   "outputs": [],
   "source": [
    "import pandas as pd\n",
    "import numpy as np\n",
    "import vartools as vt\n",
    "pd.set_option('display.float_format', '{:,.4f}'.format)\n"
   ]
  },
  {
   "cell_type": "markdown",
   "metadata": {},
   "source": [
    "# Pregunta 1"
   ]
  },
  {
   "cell_type": "code",
   "execution_count": 9,
   "metadata": {},
   "outputs": [],
   "source": [
    "def VaR_APL(df, positions, nc, long):\n",
    "    bids = [bid for bid in df.columns if 'Bid' in bid]\n",
    "    asks = [ask for ask in df.columns if 'Ask' in ask]\n",
    "\n",
    "    last_mid = []\n",
    "\n",
    "    for i in range(len(bids)):\n",
    "        df[f'Mid{i}'] = (df[bids[i]] + df[asks[i]]) / 2\n",
    "        df[f'Spread{i}'] = (df[asks[i]] - df[bids[i]]) / df[f'Mid{i}']\n",
    "        df[f'Returns{i}'] = df[f'Mid{i}'].pct_change()\n",
    "        last_mid.append(df[f'Mid{i}'].iloc[-1])\n",
    "\n",
    "    weights = [weight for weight in (positions * last_mid) / ((last_mid * positions).sum())]\n",
    "    df['Portfolio_Return'] = np.dot(df[[f'Returns{i}' for i in range(len(bids))]], weights)\n",
    "\n",
    "    var = np.abs(np.percentile(df['Portfolio_Return'].dropna(), (100-nc)) if long else np.percentile(df['Portfolio_Return'].dropna(), nc))\n",
    "    cvar = np.abs(df[df['Portfolio_Return'] < -var]['Portfolio_Return'].mean() if long else df[df['Portfolio_Return'] > var]['Portfolio_Return'].mean())\n",
    "\n",
    "    cl_promedio = np.array([df[col].mean() for col in df.columns if 'Spread' in col])\n",
    "    cl_estresado = np.array([np.percentile(df[col], 99) for col in df.columns if 'Spread' in col])\n",
    "\n",
    "    var_apl_promedio, var_apl_estresado = var + cl_promedio.dot(weights), var + cl_estresado.dot(weights)\n",
    "    cvar_apl_promedio, cvar_apl_estresado = cvar + cl_promedio.dot(weights), cvar + cl_estresado.dot(weights)\n",
    "\n",
    "    cash_var, cash_cvar = var * (last_mid * positions).sum(), cvar * (last_mid * positions).sum()\n",
    "    var_apl_promedio_cash, var_apl_estresado_cash = cash_var + cl_promedio.dot(positions*last_mid), cash_var + cl_estresado.dot(positions*last_mid)\n",
    "    cvar_apl_promedio_cash, cvar_apl_estresado_cash = cl_promedio.dot(positions*last_mid) + cash_cvar, cash_cvar + cl_estresado.dot(positions*last_mid)\n",
    "\n",
    "    categorias = ['VaR', 'CVaR', 'VaR APL Promedio', 'VaR APL Estresado', 'CVaR APL Promedio', 'CVaR APL Estresado']\n",
    "    resultados = pd.DataFrame({\n",
    "        'Métrica': categorias,\n",
    "        '%': [var, cvar, var_apl_promedio, var_apl_estresado, cvar_apl_promedio, cvar_apl_estresado],\n",
    "        '$': [cash_var, cash_cvar, var_apl_promedio_cash, var_apl_estresado_cash, cvar_apl_promedio_cash, cvar_apl_estresado_cash]\n",
    "    })\n",
    "    return resultados"
   ]
  },
  {
   "cell_type": "markdown",
   "metadata": {},
   "source": [
    "# Pregunta 2"
   ]
  },
  {
   "cell_type": "code",
   "execution_count": 12,
   "metadata": {},
   "outputs": [
    {
     "data": {
      "text/html": [
       "<div>\n",
       "<style scoped>\n",
       "    .dataframe tbody tr th:only-of-type {\n",
       "        vertical-align: middle;\n",
       "    }\n",
       "\n",
       "    .dataframe tbody tr th {\n",
       "        vertical-align: top;\n",
       "    }\n",
       "\n",
       "    .dataframe thead th {\n",
       "        text-align: right;\n",
       "    }\n",
       "</style>\n",
       "<table border=\"1\" class=\"dataframe\">\n",
       "  <thead>\n",
       "    <tr style=\"text-align: right;\">\n",
       "      <th></th>\n",
       "      <th>Métrica</th>\n",
       "      <th>%</th>\n",
       "      <th>$</th>\n",
       "    </tr>\n",
       "  </thead>\n",
       "  <tbody>\n",
       "    <tr>\n",
       "      <th>0</th>\n",
       "      <td>VaR</td>\n",
       "      <td>0.0244</td>\n",
       "      <td>1,469,942.9064</td>\n",
       "    </tr>\n",
       "    <tr>\n",
       "      <th>1</th>\n",
       "      <td>CVaR</td>\n",
       "      <td>0.0289</td>\n",
       "      <td>1,738,382.5541</td>\n",
       "    </tr>\n",
       "    <tr>\n",
       "      <th>2</th>\n",
       "      <td>VaR APL Promedio</td>\n",
       "      <td>0.0254</td>\n",
       "      <td>1,529,102.2907</td>\n",
       "    </tr>\n",
       "    <tr>\n",
       "      <th>3</th>\n",
       "      <td>VaR APL Estresado</td>\n",
       "      <td>0.0289</td>\n",
       "      <td>1,740,885.0820</td>\n",
       "    </tr>\n",
       "    <tr>\n",
       "      <th>4</th>\n",
       "      <td>CVaR APL Promedio</td>\n",
       "      <td>0.0299</td>\n",
       "      <td>1,797,541.9383</td>\n",
       "    </tr>\n",
       "    <tr>\n",
       "      <th>5</th>\n",
       "      <td>CVaR APL Estresado</td>\n",
       "      <td>0.0334</td>\n",
       "      <td>2,009,324.7297</td>\n",
       "    </tr>\n",
       "  </tbody>\n",
       "</table>\n",
       "</div>"
      ],
      "text/plain": [
       "              Métrica      %              $\n",
       "0                 VaR 0.0244 1,469,942.9064\n",
       "1                CVaR 0.0289 1,738,382.5541\n",
       "2    VaR APL Promedio 0.0254 1,529,102.2907\n",
       "3   VaR APL Estresado 0.0289 1,740,885.0820\n",
       "4   CVaR APL Promedio 0.0299 1,797,541.9383\n",
       "5  CVaR APL Estresado 0.0334 2,009,324.7297"
      ]
     },
     "execution_count": 12,
     "metadata": {},
     "output_type": "execute_result"
    }
   ],
   "source": [
    "data = pd.read_excel('repasoexcel2.xlsx', sheet_name='Commodities')\n",
    "data['Date'] = pd.to_datetime(data['Date'])\n",
    "data = data.set_index('Date')\n",
    "data = data.sort_index()\n",
    "\n",
    "positions = np.array([121*100, 153*5000, 189*25000])\n",
    "long = False\n",
    "nc = 99\n",
    "VaR_APL(data, positions, nc, long)"
   ]
  },
  {
   "cell_type": "code",
   "execution_count": 27,
   "metadata": {},
   "outputs": [
    {
     "data": {
      "text/plain": [
       "1.0"
      ]
     },
     "execution_count": 27,
     "metadata": {},
     "output_type": "execute_result"
    }
   ],
   "source": [
    "pos = 121*100\n",
    "\n",
    "ADV = np.mean(data['Volume'][-90:])\n",
    "n_dias = np.ceil(pos / ADV)\n",
    "n_dias"
   ]
  },
  {
   "cell_type": "markdown",
   "metadata": {},
   "source": [
    "# Pregunta 2"
   ]
  },
  {
   "cell_type": "code",
   "execution_count": 23,
   "metadata": {},
   "outputs": [
    {
     "data": {
      "text/html": [
       "<div>\n",
       "<style scoped>\n",
       "    .dataframe tbody tr th:only-of-type {\n",
       "        vertical-align: middle;\n",
       "    }\n",
       "\n",
       "    .dataframe tbody tr th {\n",
       "        vertical-align: top;\n",
       "    }\n",
       "\n",
       "    .dataframe thead th {\n",
       "        text-align: right;\n",
       "    }\n",
       "</style>\n",
       "<table border=\"1\" class=\"dataframe\">\n",
       "  <thead>\n",
       "    <tr style=\"text-align: right;\">\n",
       "      <th></th>\n",
       "      <th>Métrica</th>\n",
       "      <th>%</th>\n",
       "      <th>$</th>\n",
       "    </tr>\n",
       "  </thead>\n",
       "  <tbody>\n",
       "    <tr>\n",
       "      <th>0</th>\n",
       "      <td>VaR</td>\n",
       "      <td>0.0147</td>\n",
       "      <td>46,302.2918</td>\n",
       "    </tr>\n",
       "    <tr>\n",
       "      <th>1</th>\n",
       "      <td>CVaR</td>\n",
       "      <td>0.0171</td>\n",
       "      <td>53,853.4672</td>\n",
       "    </tr>\n",
       "    <tr>\n",
       "      <th>2</th>\n",
       "      <td>VaR APL Promedio</td>\n",
       "      <td>0.0150</td>\n",
       "      <td>47,136.1542</td>\n",
       "    </tr>\n",
       "    <tr>\n",
       "      <th>3</th>\n",
       "      <td>VaR APL Estresado</td>\n",
       "      <td>0.0153</td>\n",
       "      <td>48,068.5437</td>\n",
       "    </tr>\n",
       "    <tr>\n",
       "      <th>4</th>\n",
       "      <td>CVaR APL Promedio</td>\n",
       "      <td>0.0174</td>\n",
       "      <td>54,687.3296</td>\n",
       "    </tr>\n",
       "    <tr>\n",
       "      <th>5</th>\n",
       "      <td>CVaR APL Estresado</td>\n",
       "      <td>0.0177</td>\n",
       "      <td>55,619.7191</td>\n",
       "    </tr>\n",
       "  </tbody>\n",
       "</table>\n",
       "</div>"
      ],
      "text/plain": [
       "              Métrica      %           $\n",
       "0                 VaR 0.0147 46,302.2918\n",
       "1                CVaR 0.0171 53,853.4672\n",
       "2    VaR APL Promedio 0.0150 47,136.1542\n",
       "3   VaR APL Estresado 0.0153 48,068.5437\n",
       "4   CVaR APL Promedio 0.0174 54,687.3296\n",
       "5  CVaR APL Estresado 0.0177 55,619.7191"
      ]
     },
     "execution_count": 23,
     "metadata": {},
     "output_type": "execute_result"
    }
   ],
   "source": [
    "df = pd.read_excel('repasoexcel2.xlsx', sheet_name='Forex').sort_values('Date').dropna(axis=1)\n",
    "df['Date'] = pd.to_datetime(df['Date'])\n",
    "df = df.set_index('Date')\n",
    "\n",
    "positions = np.array([1571000, 7203000])\n",
    "long = True\n",
    "nc = 99\n",
    "\n",
    "VaR_APL(df, positions, nc, long)"
   ]
  },
  {
   "cell_type": "code",
   "execution_count": 31,
   "metadata": {},
   "outputs": [],
   "source": [
    "def VaR_APL(df, positions, nc, long):\n",
    "    bids = [bid for bid in df.columns if 'Bid' in bid]\n",
    "    asks = [ask for ask in df.columns if 'Ask' in ask]\n",
    "\n",
    "    last_mid = []\n",
    "\n",
    "    for i in range(len(bids)):\n",
    "        df[f'Mid{i}'] = (df[bids[i]] + df[asks[i]]) / 2\n",
    "        df[f'Spread{i}'] = (df[asks[i]] - df[bids[i]]) / df[f'Mid{i}']\n",
    "        df[f'Returns{i}'] = df[f'Mid{i}'].pct_change()\n",
    "        last_mid.append(df[f'Mid{i}'].iloc[-1])\n",
    "\n",
    "    weights = [weight for weight in (positions * last_mid) / ((last_mid * positions).sum())]\n",
    "    df['Portfolio_Return'] = np.dot(df[[f'Returns{i}' for i in range(len(bids))]], weights)\n",
    "\n",
    "    var = np.abs(np.percentile(df['Portfolio_Return'].dropna(), (100-nc)) if long else np.percentile(df['Portfolio_Return'].dropna(), nc))\n",
    "    cvar = np.abs(df[df['Portfolio_Return'] < -var]['Portfolio_Return'].mean() if long else df[df['Portfolio_Return'] > var]['Portfolio_Return'].mean())\n",
    "\n",
    "    cl_promedio = np.array([df[col].mean() for col in df.columns if 'Spread' in col])\n",
    "    cl_estresado = np.array([np.percentile(df[col], 99) for col in df.columns if 'Spread' in col])\n",
    "\n",
    "    var_apl_promedio, var_apl_estresado = var + cl_promedio.dot(weights), var + cl_estresado.dot(weights)\n",
    "    cvar_apl_promedio, cvar_apl_estresado = cvar + cl_promedio.dot(weights), cvar + cl_estresado.dot(weights)\n",
    "\n",
    "    cash_var, cash_cvar = var * (last_mid * positions).sum(), cvar * (last_mid * positions).sum()\n",
    "    var_apl_promedio_cash, var_apl_estresado_cash = cash_var + cl_promedio.dot(positions*last_mid), cash_var + cl_estresado.dot(positions*last_mid)\n",
    "    cvar_apl_promedio_cash, cvar_apl_estresado_cash = cl_promedio.dot(positions*last_mid) + cash_cvar, cash_cvar + cl_estresado.dot(positions*last_mid)\n",
    "\n",
    "    categorias = ['VaR', 'CVaR', 'VaR APL Promedio', 'VaR APL Estresado', 'CVaR APL Promedio', 'CVaR APL Estresado']\n",
    "    resultados = pd.DataFrame({\n",
    "        'Métrica': categorias,\n",
    "        '%': [var, cvar, var_apl_promedio, var_apl_estresado, cvar_apl_promedio, cvar_apl_estresado],\n",
    "        '$': [cash_var, cash_cvar, var_apl_promedio_cash, var_apl_estresado_cash, cvar_apl_promedio_cash, cvar_apl_estresado_cash]\n",
    "    })\n",
    "    return cl_promedio.dot(positions*last_mid)"
   ]
  },
  {
   "cell_type": "code",
   "execution_count": 32,
   "metadata": {},
   "outputs": [
    {
     "data": {
      "text/plain": [
       "833.8623314070503"
      ]
     },
     "execution_count": 32,
     "metadata": {},
     "output_type": "execute_result"
    }
   ],
   "source": [
    "VaR_APL(df, positions, nc, long)"
   ]
  }
 ],
 "metadata": {
  "kernelspec": {
   "display_name": "Python 3",
   "language": "python",
   "name": "python3"
  },
  "language_info": {
   "codemirror_mode": {
    "name": "ipython",
    "version": 3
   },
   "file_extension": ".py",
   "mimetype": "text/x-python",
   "name": "python",
   "nbconvert_exporter": "python",
   "pygments_lexer": "ipython3",
   "version": "3.11.3"
  }
 },
 "nbformat": 4,
 "nbformat_minor": 2
}
