{
 "cells": [
  {
   "cell_type": "code",
   "execution_count": 1,
   "metadata": {},
   "outputs": [],
   "source": [
    "import pandas as pd\n",
    "import numpy as np\n",
    "from scipy.stats import norm\n",
    "\n",
    "pd.set_option('display.float_format', '{:,.4f}'.format)"
   ]
  },
  {
   "cell_type": "markdown",
   "metadata": {},
   "source": [
    "# VAR FX"
   ]
  },
  {
   "cell_type": "code",
   "execution_count": 1,
   "metadata": {},
   "outputs": [],
   "source": [
    "def var_es(data, positions, nc, long):\n",
    "    rend_inversion = ((data * positions).sum(axis=1)).pct_change().dropna()\n",
    "    if long == True:\n",
    "        percentil =  (1-nc)*100\n",
    "        var_p = np.percentile(rend_inversion, percentil)\n",
    "        var_m = (data * positions).sum(axis=1).iloc[-1] * (var_p)\n",
    "        es_p = rend_inversion[rend_inversion < var_p].mean()\n",
    "        es_m = (data * positions).sum(axis=1).iloc[-1] * (es_p)\n",
    "    else:\n",
    "        percentil = nc*100\n",
    "        var_p = np.percentile(rend_inversion, percentil)\n",
    "        var_m = (data * positions).sum(axis=1).iloc[-1] * (var_p)\n",
    "        es_p = rend_inversion[rend_inversion > var_p].mean()\n",
    "        es_m = (data * positions).sum(axis=1).iloc[-1] * (es_p)\n",
    "    resultados = pd.DataFrame({'VAR %':var_p, 'VAR $':var_m, 'ES %':es_p, 'ES $':es_m}, index=['Resultados'])\n",
    "    return resultados"
   ]
  },
  {
   "cell_type": "markdown",
   "metadata": {},
   "source": [
    "# VAR EQUITIES"
   ]
  },
  {
   "cell_type": "code",
   "execution_count": 4,
   "metadata": {},
   "outputs": [],
   "source": [
    "def var_stocks(data, positions, nc, long):\n",
    "    rend = data.pct_change().dropna()\n",
    "    port_value = (data.iloc[-1] * positions).sum()\n",
    "    w = (data*positions).iloc[-1] / port_value\n",
    "    port_rend = np.dot(w, rend.T)\n",
    "    \n",
    "    if long == True:\n",
    "        var_p = np.percentile(port_rend, 100-nc)\n",
    "        var_m = (data * positions).sum(axis=1).iloc[-1] * (var_p)\n",
    "        es_p = port_rend[port_rend < var_p].mean()\n",
    "        es_m = (data * positions).sum(axis=1).iloc[-1] * (es_p)\n",
    "    else:\n",
    "        var_p = np.percentile(port_rend, nc)\n",
    "        var_m = (data * positions).sum(axis=1).iloc[-1] * (var_p)\n",
    "        es_p = port_rend[port_rend > var_p].mean()\n",
    "        es_m = (data * positions).sum(axis=1).iloc[-1] * (es_p)\n",
    "        \n",
    "    resultados = pd.DataFrame({\n",
    "        '':['%', '$'],\n",
    "        'VaR':[var_p, var_m],\n",
    "        'C-VaR':[es_p, es_m]\n",
    "        })\n",
    "    return resultados"
   ]
  },
  {
   "cell_type": "markdown",
   "metadata": {},
   "source": [
    "# DELTA HEDGE"
   ]
  },
  {
   "cell_type": "code",
   "execution_count": 3,
   "metadata": {},
   "outputs": [],
   "source": [
    "call_blsdelta = lambda s, k, r, sigma, T: norm.cdf( ( np.log(s/k) + (r + sigma**2 / 2) * T ) / ( sigma * np.sqrt(T)) )\n",
    "put_blsdelta = lambda s, k, r, sigma, T: np.abs(norm.cdf( ( np.log(s/k) + (r + sigma**2 / 2) * T ) / ( sigma * np.sqrt(T)) ) - 1)\n",
    "\n",
    "def delta_hedge(calls, puts, noc_c, noc_p):\n",
    "    return np.array([call_blsdelta(*i) for i in calls]).dot(noc_c) - np.array([put_blsdelta(*i) for i in puts]).dot(noc_p)"
   ]
  }
 ],
 "metadata": {
  "kernelspec": {
   "display_name": "Python 3",
   "language": "python",
   "name": "python3"
  },
  "language_info": {
   "codemirror_mode": {
    "name": "ipython",
    "version": 3
   },
   "file_extension": ".py",
   "mimetype": "text/x-python",
   "name": "python",
   "nbconvert_exporter": "python",
   "pygments_lexer": "ipython3",
   "version": "3.11.3"
  }
 },
 "nbformat": 4,
 "nbformat_minor": 2
}
