{
 "cells": [
  {
   "cell_type": "markdown",
   "metadata": {},
   "source": [
    "### Paqueterías"
   ]
  },
  {
   "cell_type": "code",
   "execution_count": 3,
   "metadata": {},
   "outputs": [],
   "source": [
    "import pandas as pd\n",
    "import numpy as np\n",
    "import yfinance as yf\n",
    "from scipy.optimize import minimize\n",
    "\n",
    "pd.set_option('display.float_format', '{:,.4f}'.format)"
   ]
  },
  {
   "cell_type": "markdown",
   "metadata": {},
   "source": [
    "# ***Tarea 2. Equities Risk***\n",
    "### Luis Eduardo Jiménez del Muro - 12/02/2025\n",
    "---"
   ]
  },
  {
   "cell_type": "markdown",
   "metadata": {},
   "source": [
    "## **Ejercicio 1. Función VaR y ES (40 puntos)**"
   ]
  },
  {
   "cell_type": "markdown",
   "metadata": {},
   "source": [
    "### Función que calcula el VaR"
   ]
  },
  {
   "cell_type": "code",
   "execution_count": 91,
   "metadata": {},
   "outputs": [],
   "source": [
    "def var_stocks(data, positions, nc, long):\n",
    "    rend = data.pct_change().dropna()\n",
    "    port_value = (data.iloc[-1] * positions).sum()\n",
    "    w = (data*positions).iloc[-1] / port_value\n",
    "    port_rend = np.dot(w, rend.T)\n",
    "    \n",
    "    if long == True:\n",
    "        var_p = np.percentile(port_rend, 100-nc)\n",
    "        var_m = (data * positions).sum(axis=1).iloc[-1] * (var_p)\n",
    "        es_p = port_rend[port_rend < var_p].mean()\n",
    "        es_m = (data * positions).sum(axis=1).iloc[-1] * (es_p)\n",
    "    else:\n",
    "        var_p = np.percentile(port_rend, nc)\n",
    "        var_m = (data * positions).sum(axis=1).iloc[-1] * (var_p)\n",
    "        es_p = port_rend[port_rend < var_p].mean()\n",
    "        es_m = (data * positions).sum(axis=1).iloc[-1] * (es_p)\n",
    "    resultados = pd.DataFrame({\n",
    "        '':['%', '$'],\n",
    "        'VaR':[var_p, var_m],\n",
    "        'C-VaR':[es_p, es_m]\n",
    "        })\n",
    "    return resultados"
   ]
  },
  {
   "cell_type": "markdown",
   "metadata": {},
   "source": [
    "### Cálculo del VaR y C-VaR"
   ]
  },
  {
   "cell_type": "code",
   "execution_count": 92,
   "metadata": {},
   "outputs": [
    {
     "name": "stderr",
     "output_type": "stream",
     "text": [
      "[*********************100%%**********************]  5 of 5 completed\n"
     ]
    },
    {
     "data": {
      "text/html": [
       "<div>\n",
       "<style scoped>\n",
       "    .dataframe tbody tr th:only-of-type {\n",
       "        vertical-align: middle;\n",
       "    }\n",
       "\n",
       "    .dataframe tbody tr th {\n",
       "        vertical-align: top;\n",
       "    }\n",
       "\n",
       "    .dataframe thead th {\n",
       "        text-align: right;\n",
       "    }\n",
       "</style>\n",
       "<table border=\"1\" class=\"dataframe\">\n",
       "  <thead>\n",
       "    <tr style=\"text-align: right;\">\n",
       "      <th></th>\n",
       "      <th></th>\n",
       "      <th>VaR</th>\n",
       "      <th>C-VaR</th>\n",
       "    </tr>\n",
       "  </thead>\n",
       "  <tbody>\n",
       "    <tr>\n",
       "      <th>0</th>\n",
       "      <td>%</td>\n",
       "      <td>-0.0289</td>\n",
       "      <td>-0.0463</td>\n",
       "    </tr>\n",
       "    <tr>\n",
       "      <th>1</th>\n",
       "      <td>$</td>\n",
       "      <td>-33,087.2054</td>\n",
       "      <td>-53,145.0865</td>\n",
       "    </tr>\n",
       "  </tbody>\n",
       "</table>\n",
       "</div>"
      ],
      "text/plain": [
       "              VaR        C-VaR\n",
       "0  %      -0.0289      -0.0463\n",
       "1  $ -33,087.2054 -53,145.0865"
      ]
     },
     "execution_count": 92,
     "metadata": {},
     "output_type": "execute_result"
    }
   ],
   "source": [
    "tickers = [\"AAPL\", \"TSLA\", \"AMD\", \"LMT\", \"JPM\"]\n",
    "positions = [2193, 1211, 3221, 761, 1231]\n",
    "\n",
    "data=yf.download(tickers, start=\"2020-01-01\", end=\"2023-01-01\")[\"Adj Close\"][tickers]\n",
    "\n",
    "var_stocks(data, positions, 95, True)"
   ]
  },
  {
   "cell_type": "markdown",
   "metadata": {},
   "source": [
    "## **Ejercicio 2. Rebalanceo de Portafolio (40 puntos)**"
   ]
  },
  {
   "cell_type": "markdown",
   "metadata": {},
   "source": [
    "### Optimización\n",
    "\n",
    "+ Se creará una función de python que represente el funcional objetivo del problema de optimización, en este caso el cálculo del VaR.\n",
    "+ El problema está sujeto a 3 restricciones: que la suma de los pesos sea igual a 1, los pesos no pueden ser mayores que 1 (solo posiciones largas) y que el VaR sea igual a $30,000$."
   ]
  },
  {
   "cell_type": "code",
   "execution_count": 143,
   "metadata": {},
   "outputs": [
    {
     "data": {
      "text/html": [
       "<div>\n",
       "<style scoped>\n",
       "    .dataframe tbody tr th:only-of-type {\n",
       "        vertical-align: middle;\n",
       "    }\n",
       "\n",
       "    .dataframe tbody tr th {\n",
       "        vertical-align: top;\n",
       "    }\n",
       "\n",
       "    .dataframe thead th {\n",
       "        text-align: right;\n",
       "    }\n",
       "</style>\n",
       "<table border=\"1\" class=\"dataframe\">\n",
       "  <thead>\n",
       "    <tr style=\"text-align: right;\">\n",
       "      <th></th>\n",
       "      <th>Pesos Originales</th>\n",
       "      <th>Pesos Objetivo</th>\n",
       "      <th>Comprar o Vender</th>\n",
       "    </tr>\n",
       "    <tr>\n",
       "      <th>Ticker</th>\n",
       "      <th></th>\n",
       "      <th></th>\n",
       "      <th></th>\n",
       "    </tr>\n",
       "  </thead>\n",
       "  <tbody>\n",
       "    <tr>\n",
       "      <th>AAPL</th>\n",
       "      <td>0.2459</td>\n",
       "      <td>0.2251</td>\n",
       "      <td>-186.0000</td>\n",
       "    </tr>\n",
       "    <tr>\n",
       "      <th>TSLA</th>\n",
       "      <td>0.1301</td>\n",
       "      <td>0.1290</td>\n",
       "      <td>-11.0000</td>\n",
       "    </tr>\n",
       "    <tr>\n",
       "      <th>AMD</th>\n",
       "      <td>0.1819</td>\n",
       "      <td>0.0031</td>\n",
       "      <td>-3,167.0000</td>\n",
       "    </tr>\n",
       "    <tr>\n",
       "      <th>LMT</th>\n",
       "      <td>0.3063</td>\n",
       "      <td>0.3896</td>\n",
       "      <td>207.0000</td>\n",
       "    </tr>\n",
       "    <tr>\n",
       "      <th>JPM</th>\n",
       "      <td>0.1358</td>\n",
       "      <td>0.2532</td>\n",
       "      <td>1,063.0000</td>\n",
       "    </tr>\n",
       "  </tbody>\n",
       "</table>\n",
       "</div>"
      ],
      "text/plain": [
       "        Pesos Originales  Pesos Objetivo  Comprar o Vender\n",
       "Ticker                                                    \n",
       "AAPL              0.2459          0.2251         -186.0000\n",
       "TSLA              0.1301          0.1290          -11.0000\n",
       "AMD               0.1819          0.0031       -3,167.0000\n",
       "LMT               0.3063          0.3896          207.0000\n",
       "JPM               0.1358          0.2532        1,063.0000"
      ]
     },
     "execution_count": 143,
     "metadata": {},
     "output_type": "execute_result"
    }
   ],
   "source": [
    "w = (data.iloc[-1] * positions) / (data.iloc[-1] * positions).sum() \n",
    "port_value = (data.iloc[-1] * positions).sum() \n",
    "nc = 95\n",
    "var_objective = 30000\n",
    "\n",
    "def objective(w):\n",
    "    rend_port = data.pct_change().dropna().dot(w)\n",
    "    var = np.abs(np.percentile(rend_port, 100-nc)) #Valor absoluto para establecer positivo el VaR Objetivo\n",
    "    return np.abs(var * port_value) \n",
    "\n",
    "constraints = [\n",
    "    {'type': 'eq', 'fun':lambda w: np.sum(w) - 1},\n",
    "    {'type': 'eq', 'fun':lambda w: objective(w) - var_objective}\n",
    "]\n",
    "bounds = [(0, 1) for ticker in tickers]\n",
    "x0 = np.ones(len(tickers))/len(tickers)\n",
    "\n",
    "resultado = minimize(objective, method=\"SLSQP\", x0=x0, bounds=bounds, constraints=constraints)\n",
    "w_objetivo = resultado.x\n",
    "\n",
    "resumen = pd.DataFrame({\n",
    "    'Pesos Originales': w,\n",
    "    'Pesos Objetivo': w_objetivo,\n",
    "    'Comprar o Vender': np.floor((w_objetivo-w) * port_value / data.iloc[-1])\n",
    "})\n",
    "resumen"
   ]
  },
  {
   "cell_type": "markdown",
   "metadata": {},
   "source": [
    "### Comprobación\n",
    "\n",
    "Para comprobarlo, simplemente hay que sumar la cantidad de acciones a comprar y vender a las posiciones anteriores y volver a correr la función del cálculo del VaR."
   ]
  },
  {
   "cell_type": "code",
   "execution_count": 144,
   "metadata": {},
   "outputs": [
    {
     "data": {
      "text/html": [
       "<div>\n",
       "<style scoped>\n",
       "    .dataframe tbody tr th:only-of-type {\n",
       "        vertical-align: middle;\n",
       "    }\n",
       "\n",
       "    .dataframe tbody tr th {\n",
       "        vertical-align: top;\n",
       "    }\n",
       "\n",
       "    .dataframe thead th {\n",
       "        text-align: right;\n",
       "    }\n",
       "</style>\n",
       "<table border=\"1\" class=\"dataframe\">\n",
       "  <thead>\n",
       "    <tr style=\"text-align: right;\">\n",
       "      <th></th>\n",
       "      <th></th>\n",
       "      <th>VaR</th>\n",
       "      <th>C-VaR</th>\n",
       "    </tr>\n",
       "  </thead>\n",
       "  <tbody>\n",
       "    <tr>\n",
       "      <th>0</th>\n",
       "      <td>%</td>\n",
       "      <td>-0.0262</td>\n",
       "      <td>-0.0421</td>\n",
       "    </tr>\n",
       "    <tr>\n",
       "      <th>1</th>\n",
       "      <td>$</td>\n",
       "      <td>-29,989.3102</td>\n",
       "      <td>-48,244.2564</td>\n",
       "    </tr>\n",
       "  </tbody>\n",
       "</table>\n",
       "</div>"
      ],
      "text/plain": [
       "              VaR        C-VaR\n",
       "0  %      -0.0262      -0.0421\n",
       "1  $ -29,989.3102 -48,244.2564"
      ]
     },
     "execution_count": 144,
     "metadata": {},
     "output_type": "execute_result"
    }
   ],
   "source": [
    "new_positions = positions + resumen['Comprar o Vender']\n",
    "var_stocks(data, new_positions, 95, True)"
   ]
  },
  {
   "cell_type": "markdown",
   "metadata": {},
   "source": [
    "El VaR en cash con las nuevas posiciones es de $\\$29,989.3102$. No es exáctamente igual a $\\$30,000$ dado que al calcular el número de acciones a comprar y vender hubo redondeos, debido a que no se pueden comprar acciones fraccionadas."
   ]
  },
  {
   "cell_type": "markdown",
   "metadata": {},
   "source": [
    "## **Ejercicio 3. Investigación Conceptual: Rebalanceos (20 puntos)**"
   ]
  },
  {
   "cell_type": "markdown",
   "metadata": {},
   "source": []
  }
 ],
 "metadata": {
  "kernelspec": {
   "display_name": "Python 3",
   "language": "python",
   "name": "python3"
  },
  "language_info": {
   "codemirror_mode": {
    "name": "ipython",
    "version": 3
   },
   "file_extension": ".py",
   "mimetype": "text/x-python",
   "name": "python",
   "nbconvert_exporter": "python",
   "pygments_lexer": "ipython3",
   "version": "3.11.3"
  }
 },
 "nbformat": 4,
 "nbformat_minor": 2
}
