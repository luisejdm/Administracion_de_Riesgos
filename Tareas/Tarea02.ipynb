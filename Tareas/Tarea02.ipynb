{
 "cells": [
  {
   "cell_type": "markdown",
   "metadata": {},
   "source": [
    "### Paqueterías"
   ]
  },
  {
   "cell_type": "code",
   "execution_count": 1,
   "metadata": {},
   "outputs": [],
   "source": [
    "import pandas as pd\n",
    "import numpy as np\n",
    "import yfinance as yf\n",
    "from scipy.optimize import minimize\n",
    "\n",
    "pd.set_option('display.float_format', '{:,.4f}'.format)"
   ]
  },
  {
   "cell_type": "markdown",
   "metadata": {},
   "source": [
    "# ***Tarea 2. Equities Risk***\n",
    "### Luis Eduardo Jiménez del Muro - 12/02/2025\n",
    "---"
   ]
  },
  {
   "cell_type": "markdown",
   "metadata": {},
   "source": [
    "## **Ejercicio 1. Función VaR y ES (40 puntos)**"
   ]
  },
  {
   "cell_type": "markdown",
   "metadata": {},
   "source": [
    "### Función que calcula el VaR"
   ]
  },
  {
   "cell_type": "code",
   "execution_count": 2,
   "metadata": {},
   "outputs": [],
   "source": [
    "def var_stocks(data, positions, nc, long):\n",
    "    rend = data.pct_change().dropna()\n",
    "    port_value = (data.iloc[-1] * positions).sum()\n",
    "    w = (data*positions).iloc[-1] / port_value\n",
    "    port_rend = np.dot(w, rend.T)\n",
    "    \n",
    "    if long == True:\n",
    "        var_p = np.percentile(port_rend, 100-nc)\n",
    "        var_m = (data * positions).sum(axis=1).iloc[-1] * (var_p)\n",
    "        es_p = port_rend[port_rend < var_p].mean()\n",
    "        es_m = (data * positions).sum(axis=1).iloc[-1] * (es_p)\n",
    "    else:\n",
    "        var_p = np.percentile(port_rend, nc)\n",
    "        var_m = (data * positions).sum(axis=1).iloc[-1] * (var_p)\n",
    "        es_p = port_rend[port_rend < var_p].mean()\n",
    "        es_m = (data * positions).sum(axis=1).iloc[-1] * (es_p)\n",
    "        \n",
    "    resultados = pd.DataFrame({\n",
    "        '':['%', '$'],\n",
    "        'VaR':[var_p, var_m],\n",
    "        'C-VaR':[es_p, es_m]\n",
    "        })\n",
    "    return resultados"
   ]
  },
  {
   "cell_type": "markdown",
   "metadata": {},
   "source": [
    "### Cálculo del VaR y C-VaR"
   ]
  },
  {
   "cell_type": "code",
   "execution_count": 3,
   "metadata": {},
   "outputs": [
    {
     "name": "stderr",
     "output_type": "stream",
     "text": [
      "[*********************100%%**********************]  5 of 5 completed\n"
     ]
    },
    {
     "data": {
      "text/html": [
       "<div>\n",
       "<style scoped>\n",
       "    .dataframe tbody tr th:only-of-type {\n",
       "        vertical-align: middle;\n",
       "    }\n",
       "\n",
       "    .dataframe tbody tr th {\n",
       "        vertical-align: top;\n",
       "    }\n",
       "\n",
       "    .dataframe thead th {\n",
       "        text-align: right;\n",
       "    }\n",
       "</style>\n",
       "<table border=\"1\" class=\"dataframe\">\n",
       "  <thead>\n",
       "    <tr style=\"text-align: right;\">\n",
       "      <th></th>\n",
       "      <th></th>\n",
       "      <th>VaR</th>\n",
       "      <th>C-VaR</th>\n",
       "    </tr>\n",
       "  </thead>\n",
       "  <tbody>\n",
       "    <tr>\n",
       "      <th>0</th>\n",
       "      <td>%</td>\n",
       "      <td>-0.0288</td>\n",
       "      <td>-0.0463</td>\n",
       "    </tr>\n",
       "    <tr>\n",
       "      <th>1</th>\n",
       "      <td>$</td>\n",
       "      <td>-33,073.9077</td>\n",
       "      <td>-53,131.4658</td>\n",
       "    </tr>\n",
       "  </tbody>\n",
       "</table>\n",
       "</div>"
      ],
      "text/plain": [
       "              VaR        C-VaR\n",
       "0  %      -0.0288      -0.0463\n",
       "1  $ -33,073.9077 -53,131.4658"
      ]
     },
     "execution_count": 3,
     "metadata": {},
     "output_type": "execute_result"
    }
   ],
   "source": [
    "tickers = [\"AAPL\", \"TSLA\", \"AMD\", \"LMT\", \"JPM\"]\n",
    "positions = [2193, 1211, 3221, 761, 1231]\n",
    "nc= 95\n",
    "long = True\n",
    "\n",
    "data=yf.download(tickers, start=\"2020-01-01\", end=\"2023-01-01\")[\"Adj Close\"][tickers]\n",
    "\n",
    "var_stocks(data, positions, nc, long)"
   ]
  },
  {
   "cell_type": "markdown",
   "metadata": {},
   "source": [
    "## **Ejercicio 2. Rebalanceo de Portafolio (40 puntos)**"
   ]
  },
  {
   "cell_type": "markdown",
   "metadata": {},
   "source": [
    "### Optimización\n",
    "\n",
    "+ Se creará una función de python que represente el funcional objetivo del problema de optimización, en este caso el cálculo del VaR.\n",
    "+ El problema está sujeto a 3 restricciones: que la suma de los pesos sea igual a 1, los pesos no pueden ser mayores que 1 (solo posiciones largas) y que el VaR sea igual a $30,000$."
   ]
  },
  {
   "cell_type": "code",
   "execution_count": 4,
   "metadata": {},
   "outputs": [
    {
     "data": {
      "text/html": [
       "<div>\n",
       "<style scoped>\n",
       "    .dataframe tbody tr th:only-of-type {\n",
       "        vertical-align: middle;\n",
       "    }\n",
       "\n",
       "    .dataframe tbody tr th {\n",
       "        vertical-align: top;\n",
       "    }\n",
       "\n",
       "    .dataframe thead th {\n",
       "        text-align: right;\n",
       "    }\n",
       "</style>\n",
       "<table border=\"1\" class=\"dataframe\">\n",
       "  <thead>\n",
       "    <tr style=\"text-align: right;\">\n",
       "      <th></th>\n",
       "      <th>Pesos Originales</th>\n",
       "      <th>Pesos Objetivo</th>\n",
       "      <th>Comprar o Vender</th>\n",
       "    </tr>\n",
       "    <tr>\n",
       "      <th>Ticker</th>\n",
       "      <th></th>\n",
       "      <th></th>\n",
       "      <th></th>\n",
       "    </tr>\n",
       "  </thead>\n",
       "  <tbody>\n",
       "    <tr>\n",
       "      <th>AAPL</th>\n",
       "      <td>0.2457</td>\n",
       "      <td>0.3312</td>\n",
       "      <td>763.0000</td>\n",
       "    </tr>\n",
       "    <tr>\n",
       "      <th>TSLA</th>\n",
       "      <td>0.1301</td>\n",
       "      <td>0.1503</td>\n",
       "      <td>188.0000</td>\n",
       "    </tr>\n",
       "    <tr>\n",
       "      <th>AMD</th>\n",
       "      <td>0.1820</td>\n",
       "      <td>0.0596</td>\n",
       "      <td>-2,167.0000</td>\n",
       "    </tr>\n",
       "    <tr>\n",
       "      <th>LMT</th>\n",
       "      <td>0.3064</td>\n",
       "      <td>0.4568</td>\n",
       "      <td>373.0000</td>\n",
       "    </tr>\n",
       "    <tr>\n",
       "      <th>JPM</th>\n",
       "      <td>0.1359</td>\n",
       "      <td>0.0022</td>\n",
       "      <td>-1,212.0000</td>\n",
       "    </tr>\n",
       "  </tbody>\n",
       "</table>\n",
       "</div>"
      ],
      "text/plain": [
       "        Pesos Originales  Pesos Objetivo  Comprar o Vender\n",
       "Ticker                                                    \n",
       "AAPL              0.2457          0.3312          763.0000\n",
       "TSLA              0.1301          0.1503          188.0000\n",
       "AMD               0.1820          0.0596       -2,167.0000\n",
       "LMT               0.3064          0.4568          373.0000\n",
       "JPM               0.1359          0.0022       -1,212.0000"
      ]
     },
     "execution_count": 4,
     "metadata": {},
     "output_type": "execute_result"
    }
   ],
   "source": [
    "w = (data.iloc[-1] * positions) / (data.iloc[-1] * positions).sum() \n",
    "rend = data.pct_change().dropna()\n",
    "port_value = (data.iloc[-1] * positions).sum() \n",
    "\n",
    "var_objective = 30000\n",
    "\n",
    "def optimize_var(w):\n",
    "    objective = lambda w: np.abs(np.percentile(w.dot(rend.T), 100 - nc)) * port_value if long else np.abs(np.percentile(w.dot(rend.T), nc)) * port_value\n",
    "\n",
    "    constraints = [\n",
    "        {'type': 'eq', 'fun':lambda w: np.sum(w) - 1},\n",
    "        {'type': 'eq', 'fun':lambda w: objective(w) - var_objective}\n",
    "    ]\n",
    "\n",
    "    bounds = [(0, 1) for _ in tickers]\n",
    "    x0 = np.ones(len(tickers))/len(tickers)\n",
    "\n",
    "    resultado = minimize(objective, method=\"SLSQP\", x0=x0, bounds=bounds, constraints=constraints)\n",
    "    w_objetivo = resultado.x\n",
    "    return w_objetivo\n",
    "\n",
    "def resumen_rebalanceo(w, w_objetivo):\n",
    "    resumen = pd.DataFrame({\n",
    "    'Pesos Originales': w,\n",
    "    'Pesos Objetivo': w_objetivo,\n",
    "    'Comprar o Vender': np.floor((w_objetivo-w) * port_value / data.iloc[-1])\n",
    "    })\n",
    "    return resumen\n",
    "\n",
    "w_objetivo = optimize_var(w)\n",
    "\n",
    "resumen = resumen_rebalanceo(w, w_objetivo)\n",
    "resumen"
   ]
  },
  {
   "cell_type": "markdown",
   "metadata": {},
   "source": [
    "### Comprobación\n",
    "\n",
    "Para comprobarlo, simplemente hay que sumar la cantidad de acciones a comprar y vender a las posiciones anteriores y volver a correr la función del cálculo del VaR."
   ]
  },
  {
   "cell_type": "code",
   "execution_count": 5,
   "metadata": {},
   "outputs": [
    {
     "data": {
      "text/html": [
       "<div>\n",
       "<style scoped>\n",
       "    .dataframe tbody tr th:only-of-type {\n",
       "        vertical-align: middle;\n",
       "    }\n",
       "\n",
       "    .dataframe tbody tr th {\n",
       "        vertical-align: top;\n",
       "    }\n",
       "\n",
       "    .dataframe thead th {\n",
       "        text-align: right;\n",
       "    }\n",
       "</style>\n",
       "<table border=\"1\" class=\"dataframe\">\n",
       "  <thead>\n",
       "    <tr style=\"text-align: right;\">\n",
       "      <th></th>\n",
       "      <th></th>\n",
       "      <th>VaR</th>\n",
       "      <th>C-VaR</th>\n",
       "    </tr>\n",
       "  </thead>\n",
       "  <tbody>\n",
       "    <tr>\n",
       "      <th>0</th>\n",
       "      <td>%</td>\n",
       "      <td>-0.0262</td>\n",
       "      <td>-0.0445</td>\n",
       "    </tr>\n",
       "    <tr>\n",
       "      <th>1</th>\n",
       "      <td>$</td>\n",
       "      <td>-29,992.3601</td>\n",
       "      <td>-51,054.4159</td>\n",
       "    </tr>\n",
       "  </tbody>\n",
       "</table>\n",
       "</div>"
      ],
      "text/plain": [
       "              VaR        C-VaR\n",
       "0  %      -0.0262      -0.0445\n",
       "1  $ -29,992.3601 -51,054.4159"
      ]
     },
     "execution_count": 5,
     "metadata": {},
     "output_type": "execute_result"
    }
   ],
   "source": [
    "new_positions = positions + resumen['Comprar o Vender']\n",
    "var_stocks(data, new_positions, nc, long)"
   ]
  },
  {
   "cell_type": "markdown",
   "metadata": {},
   "source": [
    "+ El VaR en cash con las nuevas posiciones no es exactamente de $\\$30,000$ dado que, al calcular el número de acciones a comprar y vender hubo redondeos porque a que no se pueden comprar acciones fraccionadas. \n",
    "\n",
    "+ Sin embargo, el VaR es menor a $\\$30,000$ lo que significa que ahora es admisible para el inversionista."
   ]
  },
  {
   "cell_type": "markdown",
   "metadata": {},
   "source": [
    "## **Ejercicio 3. Investigación Conceptual: Rebalanceos (20 puntos)**"
   ]
  },
  {
   "cell_type": "markdown",
   "metadata": {},
   "source": [
    "### Inciso a)"
   ]
  },
  {
   "cell_type": "markdown",
   "metadata": {},
   "source": [
    "#### *¿Cuál es el objetico principal del rebalanceo?*"
   ]
  },
  {
   "cell_type": "markdown",
   "metadata": {},
   "source": [
    "Principalmente, el rebalanceo se hace para mantener los objetivos de riesgo-rendimiento del inversionista. Por ejemplo, el inversionista está dispuesto a una volatilidad del 30% en su portafolio, y en el primer año de su portafolio, la acción NVDA tuvo un enorme crecimiento, lo que provocó que el peso de NVDA en el portafolio incrementara un 15%. Este crecimiento en el peso no solo incrementa el rendimiento, pero tambien el riesgo, y esto puede causar que ahora la volatilidad del portafolio sea de un 40%, lo que haría que deje de ser un portafolio hecho a la medida y objetivos del inversionista."
   ]
  },
  {
   "cell_type": "markdown",
   "metadata": {},
   "source": [
    "#### *¿Por qué es importante implementarlo de manera sistemática?*"
   ]
  },
  {
   "cell_type": "markdown",
   "metadata": {},
   "source": [
    "Lo mas importante es que al hacerlo de manera sistemática se está llevando un monitoreo controlado del portafolio, y esto evita que los inversionistas tomen decisiones por sentimientos exponiendose de más en activos sobrevalorados e infravalorados, es decir, no dejarse llevar por las tendencias del mercado, sino que, mantenerse en linea con sus objetivos. Por otra parte, hacer rebalanceo de portafolios de forma sistemática permite controlar los costos de los impuestos y de transacción que se tienen al comprar y vender los activos."
   ]
  },
  {
   "cell_type": "markdown",
   "metadata": {},
   "source": [
    "### Inciso b)"
   ]
  },
  {
   "cell_type": "markdown",
   "metadata": {},
   "source": [
    "#### *¿Qué decisiones forman parte de una estrategia de rebalanceo?*"
   ]
  },
  {
   "cell_type": "markdown",
   "metadata": {},
   "source": [
    "1. La frecuencia con la que se realizará\n",
    "2. Decidir si habrá algun threshold que nos indique si es momento de rebalancear\n",
    "3. Método de rebalanceo.\n",
    "4. Recapacitar y estudiar si los objetivos del inversionista han cambiado con el paso del tiempo."
   ]
  },
  {
   "cell_type": "markdown",
   "metadata": {},
   "source": [
    "#### *¿Cuáles son los métodos principales para realizar rebalanceos de forma sistemática?*"
   ]
  },
  {
   "cell_type": "markdown",
   "metadata": {},
   "source": [
    "- **Rebalanceo basado en calendario:** Se establece la frecuencia de rebalanceo (mensual, trimestral, anual, etc.). No es recomendable definir periodos muy cortos porque puede incrementar los costso de transacción.\n",
    "\n",
    "- **Rebalanceo por threshold:** Se realiza el rebalanceo cada que los pesos de los activos superen una variación establecida. Por ejemplo, si se establece el $\\pm7\\%$ y NVDA incrementó su peso en el portafolio de $10\\%$ a $17\\%$ se hará un rebalanceo.\n",
    "\n",
    "- **Rebalanceo bassado en calendario y threshold:** Combina ambos enfoques anteriores. Establecerá una frecuencia fija, pero se hará un rebalanceo si ocurren movimientos en los pesos mayores al threshold."
   ]
  },
  {
   "cell_type": "markdown",
   "metadata": {},
   "source": [
    "### Inciso c)"
   ]
  },
  {
   "cell_type": "markdown",
   "metadata": {},
   "source": [
    "#### *Además del rendimiento, riesgo y objetivos, ¿qué otro factor puede tener un grán impacto en el desempeño de un portafolio al rebalancearlo?*"
   ]
  },
  {
   "cell_type": "markdown",
   "metadata": {},
   "source": [
    "El otro grán factor son los costos y los impuestos que se pagan al realizar las transacciones. Si al momento de establecerse el método se selecciona una frecuencia pequeña, o thresholds pequeños, esto hace que a menudo tengamos rebalanceos y el costo de estas operaciones nulifique el rendimiento que se está teniendo en el portafolio."
   ]
  },
  {
   "cell_type": "markdown",
   "metadata": {},
   "source": [
    "### Inciso d)"
   ]
  },
  {
   "cell_type": "markdown",
   "metadata": {},
   "source": [
    "#### *¿Qué recomendaciones propone Vanguard para reducir los costos fiscales en un portafolio?*"
   ]
  },
  {
   "cell_type": "markdown",
   "metadata": {},
   "source": [
    "- Principalmente sugieren elegir la frecuencia a la que ellos llaman 'óptima' para la mayoría de los inversionistas, que es de un año.\n",
    "\n",
    "- Además, indican que otra opción es realizar rebalanceos parciales, en donde, el rebalanceo se enfoca en los activos más desviados de sus objetivos.\n",
    "\n",
    "- Por último, utilizar los dividendos e intereses del portafolio para subir los pesos de los activos que se encuentrán más abajo con respecto al los objetivos."
   ]
  },
  {
   "cell_type": "markdown",
   "metadata": {},
   "source": [
    "#### *¿Qué es el tax loss harvesting?*"
   ]
  },
  {
   "cell_type": "markdown",
   "metadata": {},
   "source": [
    "Consiste en vender los activos que han generado pérdidas y así compensar con las ganancias que se tienen al vendero otros activos, con ello, cumplir el objetivo de  reducir las cargas fiscales."
   ]
  }
 ],
 "metadata": {
  "kernelspec": {
   "display_name": "Python 3",
   "language": "python",
   "name": "python3"
  },
  "language_info": {
   "codemirror_mode": {
    "name": "ipython",
    "version": 3
   },
   "file_extension": ".py",
   "mimetype": "text/x-python",
   "name": "python",
   "nbconvert_exporter": "python",
   "pygments_lexer": "ipython3",
   "version": "3.11.3"
  }
 },
 "nbformat": 4,
 "nbformat_minor": 2
}
