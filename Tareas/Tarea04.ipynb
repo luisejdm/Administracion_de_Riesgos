{
 "cells": [
  {
   "cell_type": "markdown",
   "metadata": {},
   "source": [
    "# ***Tarea 4. Derivatives Risk: Delta Hedge***\n",
    "### Luis Eduardo Jiménez del Muro - 24/02/2025\n",
    "---"
   ]
  },
  {
   "cell_type": "markdown",
   "metadata": {},
   "source": [
    "### Paqueterías"
   ]
  },
  {
   "cell_type": "code",
   "execution_count": 1,
   "metadata": {},
   "outputs": [],
   "source": [
    "import numpy as np\n",
    "import pandas as pd\n",
    "from scipy.stats import norm"
   ]
  },
  {
   "cell_type": "markdown",
   "metadata": {},
   "source": [
    "# *Ejercicio 1*"
   ]
  },
  {
   "cell_type": "code",
   "execution_count": 2,
   "metadata": {},
   "outputs": [],
   "source": [
    "call_blsdelta = lambda s, k, r, sigma, T: norm.cdf( ( np.log(s/k) + (r + sigma**2 / 2) * T ) / ( sigma * np.sqrt(T)) )\n",
    "put_blsdelta = lambda s, k, r, sigma, T: np.abs(norm.cdf( ( np.log(s/k) + (r + sigma**2 / 2) * T ) / ( sigma * np.sqrt(T)) ) - 1)\n",
    "\n",
    "def delta_hedge(calls, puts, noc_c, noc_p):\n",
    "    return np.array([call_blsdelta(*i) for i in calls]).dot(noc_c) - np.array([put_blsdelta(*i) for i in puts]).dot(noc_p)"
   ]
  },
  {
   "cell_type": "markdown",
   "metadata": {},
   "source": [
    "# *Ejercicio 2a*"
   ]
  },
  {
   "cell_type": "code",
   "execution_count": 3,
   "metadata": {},
   "outputs": [
    {
     "name": "stdout",
     "output_type": "stream",
     "text": [
      "Hay que vender $-22.5256 MDD del subyacente\n"
     ]
    }
   ],
   "source": [
    "#                  Spot, Strike, r,     sigma, T\n",
    "calls = np.array([ [5.27, 5.35, 0.0453, 0.31, 1/12],    #C1\n",
    "                   [5.27, 5.4, 0.0453, 0.312, 1/12],    #C2\n",
    "                   [5.27, 5.35, 0.0468, 0.334, 3/12],   #C3\n",
    "                   [5.27, 5.4, 0.0468, 0.321, 3/12] ])  #C4\n",
    "\n",
    " #                  Spot, Strike, r,     sigma, T\n",
    "puts =  np.array([ [5.27, 5.25, 0.0453, 0.37, 1/12],    #P1\n",
    "                   [5.27, 5.23, 0.0453, 0.373, 1/12],   #P2\n",
    "                   [5.27, 5.25, 0.0468, 0.412, 3/12],   #P3\n",
    "                   [5.27, 5.23, 0.0468, 0.431, 3/12] ]) #P4\n",
    "\n",
    "#                        C1, C2, C3, C4\n",
    "noc_c = np.array([12,  9,  5,  3])\n",
    "\n",
    "#                        P1, P2, P3, P4\n",
    "noc_p = np.array([21, 22, 23, 17])\n",
    "\n",
    "net_1 = delta_hedge(calls, puts, noc_c, noc_p)\n",
    "\n",
    "if net_1 < 0:\n",
    "    print(f'Hay que vender ${net_1:.4f} MDD del subyacente')\n",
    "else:\n",
    "    print(f'Hay que comprar ${net_1:.4f} MDD del subyacente')"
   ]
  },
  {
   "cell_type": "markdown",
   "metadata": {},
   "source": [
    "# *Ejercicio 2b*"
   ]
  },
  {
   "cell_type": "code",
   "execution_count": 4,
   "metadata": {},
   "outputs": [
    {
     "name": "stdout",
     "output_type": "stream",
     "text": [
      "Hay que comprar $0.3748 MDD del subyacente\n"
     ]
    }
   ],
   "source": [
    "#                       Spot, Strike, r,     sigma, T\n",
    "new_calls = np.array([ [5.275, 5.35, 0.0453, 0.321, 1/12],   #C1\n",
    "                       [5.275, 5.4, 0.0453, 0.332, 1/12],    #C2\n",
    "                       [5.275, 5.35, 0.0468, 0.311, 3/12],   #C3\n",
    "                       [5.275, 5.4, 0.0468, 0.338, 3/12] ])  #C4\n",
    "\n",
    " #                      Spot, Strike, r,     sigma, T\n",
    "new_puts =  np.array([ [5.275, 5.25, 0.0453, 0.41, 1/12],    #P1\n",
    "                       [5.275, 5.23, 0.0453, 0.372, 1/12],   #P2\n",
    "                       [5.275, 5.25, 0.0468, 0.362, 3/12],   #P3\n",
    "                       [5.275, 5.23, 0.0468, 0.411, 3/12] ]) #P4\n",
    "\n",
    "net_2 = delta_hedge(new_calls, new_puts, noc_c, noc_p)\n",
    "\n",
    "if net_2 - net_1 < 0:\n",
    "    print(f'Hay que vender ${net_2 - net_1:.4f} MDD del subyacente')\n",
    "else:\n",
    "    print(f'Hay que comprar ${net_2 - net_1:.4f} MDD del subyacente')"
   ]
  }
 ],
 "metadata": {
  "kernelspec": {
   "display_name": "Python 3",
   "language": "python",
   "name": "python3"
  },
  "language_info": {
   "codemirror_mode": {
    "name": "ipython",
    "version": 3
   },
   "file_extension": ".py",
   "mimetype": "text/x-python",
   "name": "python",
   "nbconvert_exporter": "python",
   "pygments_lexer": "ipython3",
   "version": "3.11.3"
  }
 },
 "nbformat": 4,
 "nbformat_minor": 2
}
