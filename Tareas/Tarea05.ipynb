{
 "cells": [
  {
   "cell_type": "markdown",
   "metadata": {},
   "source": [
    "# ***Tarea 5. VaR Ajustado por Liquidez***\n",
    "### Luis Eduardo Jiménez del Muro - 12/03/2025\n",
    "---"
   ]
  },
  {
   "cell_type": "markdown",
   "metadata": {},
   "source": [
    "### Paqueterías"
   ]
  },
  {
   "cell_type": "code",
   "execution_count": null,
   "metadata": {},
   "outputs": [],
   "source": [
    "import pandas as pd\n",
    "import numpy as np\n",
    "pd.set_option('display.float_format', '{:,.4f}'.format)\n"
   ]
  },
  {
   "cell_type": "markdown",
   "metadata": {},
   "source": [
    "# *Ejercicio 1*"
   ]
  },
  {
   "cell_type": "markdown",
   "metadata": {},
   "source": [
    "Escribe una función en Python llamada VaR_APL la cual te calculará las métricas de riesgo de un portafolio dado, independientemente de que este sea de Equities, Derivados, Tasas o Forex.\n",
    "La función recibirá los siguientes inputs:\n",
    "\n",
    "+ data : Data Frame con los datos de Bid y Ask del portafolio. Solo recibirá estas dos columnas por activo y hará el calculo del Mid Price y el Spread de manera automática. Hay que automatizar el código para que funcione independientemente del número de activos, es decir, si le meto 10 bid y ask o nada más uno tiene que funcionar.\n",
    "\n",
    "+ posiciones : Array de numpy que contiene la posición por activo. Hay que tener en cuenta que tiene que estar en el mismo ordende data y tener la misma cantidad de posiciones que de número de activos.\n",
    "\n",
    "+ conf : Float con el nivel de confianza del VaR.\n",
    "\n",
    "+ long : Valor booleano que es True si estas largo y False si estas corto.\n",
    "\n",
    "La función deberá realizar todos los calcúlos vistos en clase y regresar un data frame con todas las métricas de riesgo calculadas, es decir, VaR, VaR ajustado por liquidez promedio y VaR ajustado por liquidez estresado. Tanto en porcentaje como en efectivo."
   ]
  },
  {
   "cell_type": "code",
   "execution_count": 121,
   "metadata": {},
   "outputs": [],
   "source": [
    "def VaR_APL(df, positions, nc, long):\n",
    "    bids = [bid for bid in df.columns if 'Bid' in bid]\n",
    "    asks = [ask for ask in df.columns if 'Ask' in ask]\n",
    "\n",
    "    last_mid = []\n",
    "\n",
    "    for i in range(len(bids)):\n",
    "        df[f'Mid{i}'] = (df[bids[i]] + df[asks[i]]) / 2\n",
    "        df[f'Spread{i}'] = (df[asks[i]] - df[bids[i]]) / df[f'Mid{i}']\n",
    "        df[f'Returns{i}'] = df[f'Mid{i}'].pct_change()\n",
    "        last_mid.append(df[f'Mid{i}'].iloc[-1])\n",
    "\n",
    "    weights = [weight for weight in (positions * last_mid) / ((last_mid * positions).sum())]\n",
    "    df['Portfolio_Return'] = np.dot(df[[f'Returns{i}' for i in range(len(bids))]], weights)\n",
    "\n",
    "    var = np.abs(np.percentile(df['Portfolio_Return'].dropna(), (100-nc)) if long else np.percentile(df['Portfolio_Return'].dropna(), nc))\n",
    "    cvar = np.abs(df[df['Portfolio_Return'] < -var]['Portfolio_Return'].mean() if long else df[df['Portfolio_Return'] > var]['Portfolio_Return'].mean())\n",
    "\n",
    "    cl_promedio = np.array([df[col].mean() for col in df.columns if 'Spread' in col])\n",
    "    cl_estresado = np.array([np.percentile(df[col], 99) for col in df.columns if 'Spread' in col])\n",
    "\n",
    "    var_apl_promedio, var_apl_estresado = var + cl_promedio.dot(weights), var + cl_estresado.dot(weights)\n",
    "    cvar_apl_promedio, cvar_apl_estresado = cvar + cl_promedio.dot(weights), cvar + cl_estresado.dot(weights)\n",
    "\n",
    "    cash_var, cash_cvar = var * (last_mid * positions).sum(), cvar * (last_mid * positions).sum()\n",
    "    var_apl_promedio_cash, var_apl_estresado_cash = cash_var + cl_promedio.dot(positions*last_mid), cash_var + cl_estresado.dot(positions*last_mid)\n",
    "    cvar_apl_promedio_cash, cvar_apl_estresado_cash = cl_promedio.dot(positions*last_mid) + cash_cvar, cash_cvar + cl_estresado.dot(positions*last_mid)\n",
    "\n",
    "    categorias = ['VaR', 'CVaR', 'VaR APL Promedio', 'VaR APL Estresado', 'CVaR APL Promedio', 'CVaR APL Estresado']\n",
    "    resultados = pd.DataFrame({\n",
    "        'Métrica': categorias,\n",
    "        '%': [var, cvar, var_apl_promedio, var_apl_estresado, cvar_apl_promedio, cvar_apl_estresado],\n",
    "        '$': [cash_var, cash_cvar, var_apl_promedio_cash, var_apl_estresado_cash, cvar_apl_promedio_cash, cvar_apl_estresado_cash]\n",
    "    })\n",
    "    return resultados"
   ]
  },
  {
   "cell_type": "markdown",
   "metadata": {},
   "source": [
    "# *Ejercicio 2*"
   ]
  },
  {
   "cell_type": "markdown",
   "metadata": {},
   "source": [
    "## Ejercicio 2a"
   ]
  },
  {
   "cell_type": "markdown",
   "metadata": {},
   "source": [
    "Asume que tienes un portafolio de FX con las siguientes posiciones:\n",
    "+ CORTO en el dólar 3.2 MDD (USD/MXN)\n",
    "+ CORTO en el yen japones 10 MDJ (JPY/MXN)\n",
    "+ CORTO en el euro 5.3 MDE (EUR/MXN)\n",
    "\n",
    "Calcular las métricas de riesgo de mercado y liquidez del portafolio a un día con un 99% de confianza.\n",
    "Los datos se encuentran en la hoja FOREX del excel proporcionado:"
   ]
  },
  {
   "cell_type": "code",
   "execution_count": 134,
   "metadata": {},
   "outputs": [
    {
     "data": {
      "text/html": [
       "<div>\n",
       "<style scoped>\n",
       "    .dataframe tbody tr th:only-of-type {\n",
       "        vertical-align: middle;\n",
       "    }\n",
       "\n",
       "    .dataframe tbody tr th {\n",
       "        vertical-align: top;\n",
       "    }\n",
       "\n",
       "    .dataframe thead th {\n",
       "        text-align: right;\n",
       "    }\n",
       "</style>\n",
       "<table border=\"1\" class=\"dataframe\">\n",
       "  <thead>\n",
       "    <tr style=\"text-align: center;\">\n",
       "      <th></th>\n",
       "      <th>Métrica</th>\n",
       "      <th>%</th>\n",
       "      <th>$</th>\n",
       "    </tr>\n",
       "  </thead>\n",
       "  <tbody>\n",
       "    <tr>\n",
       "      <th>0</th>\n",
       "      <td>VaR</td>\n",
       "      <td>0.0261</td>\n",
       "      <td>4,656,957.0170</td>\n",
       "    </tr>\n",
       "    <tr>\n",
       "      <th>1</th>\n",
       "      <td>CVaR</td>\n",
       "      <td>0.0364</td>\n",
       "      <td>6,478,384.8304</td>\n",
       "    </tr>\n",
       "    <tr>\n",
       "      <th>2</th>\n",
       "      <td>VaR APL Promedio</td>\n",
       "      <td>0.0266</td>\n",
       "      <td>4,734,440.2541</td>\n",
       "    </tr>\n",
       "    <tr>\n",
       "      <th>3</th>\n",
       "      <td>VaR APL Estresado</td>\n",
       "      <td>0.0271</td>\n",
       "      <td>4,824,739.6518</td>\n",
       "    </tr>\n",
       "    <tr>\n",
       "      <th>4</th>\n",
       "      <td>CVaR APL Promedio</td>\n",
       "      <td>0.0368</td>\n",
       "      <td>6,555,868.0675</td>\n",
       "    </tr>\n",
       "    <tr>\n",
       "      <th>5</th>\n",
       "      <td>CVaR APL Estresado</td>\n",
       "      <td>0.0373</td>\n",
       "      <td>6,646,167.4652</td>\n",
       "    </tr>\n",
       "  </tbody>\n",
       "</table>\n",
       "</div>"
      ],
      "text/plain": [
       "        Métrica          %          $      \n",
       "0                 VaR 0.0261 4,656,957.0170\n",
       "1                CVaR 0.0364 6,478,384.8304\n",
       "2    VaR APL Promedio 0.0266 4,734,440.2541\n",
       "3   VaR APL Estresado 0.0271 4,824,739.6518\n",
       "4   CVaR APL Promedio 0.0368 6,555,868.0675\n",
       "5  CVaR APL Estresado 0.0373 6,646,167.4652"
      ]
     },
     "execution_count": 134,
     "metadata": {},
     "output_type": "execute_result"
    }
   ],
   "source": [
    "df = pd.read_excel('data/data_tarea_5.xlsx', sheet_name='FOREX').sort_values('Date')\n",
    "df['Date'] = pd.to_datetime(df['Date'])\n",
    "df = df.set_index('Date')\n",
    "\n",
    "positions = np.array([3200000, 10000000, 5300000])\n",
    "long = False\n",
    "nc = 99\n",
    "\n",
    "VaR_APL(df, positions, nc, long)"
   ]
  },
  {
   "cell_type": "markdown",
   "metadata": {},
   "source": [
    "# *Ejercicio 1*"
   ]
  },
  {
   "cell_type": "markdown",
   "metadata": {},
   "source": [
    "## Ejercicio 2b"
   ]
  },
  {
   "cell_type": "markdown",
   "metadata": {},
   "source": [
    "Asume que tienes una sola posición larga en 100 contratos futuros de granos de café, los contratos tienen un nocional de 37,500 unidades cada uno y los precios de cada unidad (libras) de café se encuentran en el excel proporcionado en la hoja DERIVATIVES. \n",
    "\n",
    "Calcular las métricas de riesgo de mercado y liquidez del portafolio a un día con un 99% de confianza.\n"
   ]
  },
  {
   "cell_type": "code",
   "execution_count": 135,
   "metadata": {},
   "outputs": [
    {
     "data": {
      "text/html": [
       "<div>\n",
       "<style scoped>\n",
       "    .dataframe tbody tr th:only-of-type {\n",
       "        vertical-align: middle;\n",
       "    }\n",
       "\n",
       "    .dataframe tbody tr th {\n",
       "        vertical-align: top;\n",
       "    }\n",
       "\n",
       "    .dataframe thead th {\n",
       "        text-align: right;\n",
       "    }\n",
       "</style>\n",
       "<table border=\"1\" class=\"dataframe\">\n",
       "  <thead>\n",
       "    <tr style=\"text-align: center;\">\n",
       "      <th></th>\n",
       "      <th>Métrica</th>\n",
       "      <th>%</th>\n",
       "      <th>$</th>\n",
       "    </tr>\n",
       "  </thead>\n",
       "  <tbody>\n",
       "    <tr>\n",
       "      <th>0</th>\n",
       "      <td>VaR</td>\n",
       "      <td>0.0491</td>\n",
       "      <td>588,274.1440</td>\n",
       "    </tr>\n",
       "    <tr>\n",
       "      <th>1</th>\n",
       "      <td>CVaR</td>\n",
       "      <td>0.0610</td>\n",
       "      <td>730,740.9163</td>\n",
       "    </tr>\n",
       "    <tr>\n",
       "      <th>2</th>\n",
       "      <td>VaR APL Promedio</td>\n",
       "      <td>0.0498</td>\n",
       "      <td>596,455.2298</td>\n",
       "    </tr>\n",
       "    <tr>\n",
       "      <th>3</th>\n",
       "      <td>VaR APL Estresado</td>\n",
       "      <td>0.0511</td>\n",
       "      <td>612,305.6673</td>\n",
       "    </tr>\n",
       "    <tr>\n",
       "      <th>4</th>\n",
       "      <td>CVaR APL Promedio</td>\n",
       "      <td>0.0616</td>\n",
       "      <td>738,922.0021</td>\n",
       "    </tr>\n",
       "    <tr>\n",
       "      <th>5</th>\n",
       "      <td>CVaR APL Estresado</td>\n",
       "      <td>0.0630</td>\n",
       "      <td>754,772.4396</td>\n",
       "    </tr>\n",
       "  </tbody>\n",
       "</table>\n",
       "</div>"
      ],
      "text/plain": [
       "        Métrica          %         $     \n",
       "0                 VaR 0.0491 588,274.1440\n",
       "1                CVaR 0.0610 730,740.9163\n",
       "2    VaR APL Promedio 0.0498 596,455.2298\n",
       "3   VaR APL Estresado 0.0511 612,305.6673\n",
       "4   CVaR APL Promedio 0.0616 738,922.0021\n",
       "5  CVaR APL Estresado 0.0630 754,772.4396"
      ]
     },
     "execution_count": 135,
     "metadata": {},
     "output_type": "execute_result"
    }
   ],
   "source": [
    "df = pd.read_excel('data/data_tarea_5.xlsx', sheet_name='DERIVATIVES').sort_values('Date')\n",
    "df['Date'] = pd.to_datetime(df['Date'])\n",
    "df = df.set_index('Date')\n",
    "\n",
    "nocional = 37500\n",
    "positions = np.array([100*nocional])\n",
    "nc = 99\n",
    "long = True\n",
    "\n",
    "VaR_APL(df, positions, nc, long)"
   ]
  }
 ],
 "metadata": {
  "kernelspec": {
   "display_name": "Python 3",
   "language": "python",
   "name": "python3"
  },
  "language_info": {
   "codemirror_mode": {
    "name": "ipython",
    "version": 3
   },
   "file_extension": ".py",
   "mimetype": "text/x-python",
   "name": "python",
   "nbconvert_exporter": "python",
   "pygments_lexer": "ipython3",
   "version": "3.11.3"
  }
 },
 "nbformat": 4,
 "nbformat_minor": 2
}
